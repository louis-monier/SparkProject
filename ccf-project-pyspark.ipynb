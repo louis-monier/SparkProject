{
 "cells": [
  {
   "cell_type": "markdown",
   "metadata": {},
   "source": [
    "# Course project - Machine Learning for Big Data\n",
    "***\n",
    "In the following, we deal with an efficient and scalable approach to tackle the well-known problem of **finding all the connected components in a given graph**. Solving this problem can then transfer easily to application areas such as social network analysis, data mining, image processing, record linkage, etc. \n",
    "\n",
    "\n",
    "This project is based on the article [CCF: Fast and Scalable Connected Component Computation in MapReduce](https://www.cse.unr.edu/~hkardes/pdfs/ccf.pdf) written by H.Kardes, S.Agrawal, X.Wang and A.Sun in 2014.\n",
    "\n",
    "We provide 2 versions of the code : one in Pyspark, one in Scala. We implemented both mostly for the sake of practicing to code in different languages. It also allows to compare relative wall clock time between Pyspark and Scala for CFF algorithm.\n",
    "\n",
    "#### <font color=blue>  Students : Louis Monier & Théo Bodrito </font> "
   ]
  },
  {
   "cell_type": "code",
   "execution_count": 1,
   "metadata": {},
   "outputs": [],
   "source": [
    "import findspark\n",
    "findspark.init()\n",
    "import pyspark\n",
    "import time \n",
    "import matplotlib.pyplot as plt\n",
    "\n",
    "%matplotlib inline"
   ]
  },
  {
   "cell_type": "markdown",
   "metadata": {},
   "source": [
    "Many different real world systems can be modeled as graphs (nodes/edges). As some graphs have a very large size, it has become an important topical issue to build highly scalable parallelized algorithms to efficiently extract useful information from them. The Map Reduce framework provides distributed computing which allows to process such enormous data volumes.\n",
    "\n",
    "Let's recall the definition of a component : any two vertices that are connected to each other by paths. Finding connected component consists of finding the right connexion between those disjoint subgraphs (see figure below : 3 components ; source: [Wikipedia](https://en.wikipedia.org/wiki/Component_(graph_theory) ))\n",
    "<img src=\"img/components.png\" alt=\"Drawing\" style=\"width: 200px;\"/>"
   ]
  },
  {
   "cell_type": "code",
   "execution_count": 2,
   "metadata": {},
   "outputs": [],
   "source": [
    "sc = pyspark.SparkContext(appName=\"Project\")"
   ]
  },
  {
   "cell_type": "markdown",
   "metadata": {},
   "source": [
    "# I - Data preparation \n",
    "*** \n",
    "The authors claim the viability of their approach on a massive graph of ~6B nodes and ~92 edges. In the present work, we used Databricks to test and review our implementations on toy graphs only since we did not have access to powerful cluster ressources. \n",
    "\n",
    "\n",
    "We chose to use the [Web Google graph](http://snap.stanford.edu/data/web-Google.html) released in 2002 by Google. There are 875K nodes and 5.1M edges in this graph. Nodes represent web pages and directed edges represent hyperlinks between them. \n",
    "\n",
    "Data is already clean. All we need to do is remove the headers and make sure nodes are converted to integers.\n",
    "Basically, data contains 2 columns. Each row is a (key, value) couple that represents 2 connected nodes : [node1] --> [node2]."
   ]
  },
  {
   "cell_type": "code",
   "execution_count": 3,
   "metadata": {},
   "outputs": [],
   "source": [
    "## Load the dataset\n",
    "raw_data = sc.textFile(\"./web-Google.txt\")\n",
    "#graph = sc.parallelize([(1,2), (2, 3), (2, 4), (4, 5), (6, 7), (7, 8)])"
   ]
  },
  {
   "cell_type": "code",
   "execution_count": 4,
   "metadata": {},
   "outputs": [],
   "source": [
    "## Data preparation\n",
    "def clean_data(raw_data):\n",
    "    data = raw_data.filter(lambda x : \"#\" not in x) # remove the header\n",
    "    data =  data.map(lambda x : x.split(\"\\t\")).map(lambda x: (x[0], x[1])) # split data to form (key, value) \n",
    "    return data"
   ]
  },
  {
   "cell_type": "code",
   "execution_count": 5,
   "metadata": {},
   "outputs": [],
   "source": [
    "# Main loop of the algorithm\n",
    "def process(rdd, sorting=None):\n",
    "    i = 0\n",
    "    new_pairs = 1 # arbitrary >0\n",
    "    while new_pairs > 0:\n",
    "        print(f\"iteration {i}\")\n",
    "        if sorting:\n",
    "            rdd, new_pairs = CFF_iterate_sorting(rdd) \n",
    "        else:\n",
    "            rdd, new_pairs = CFF_iterate(rdd) \n",
    "        print(f\"# new pairs : {new_pairs}\")\n",
    "        i += 1\n",
    "    return rdd"
   ]
  },
  {
   "cell_type": "markdown",
   "metadata": {},
   "source": [
    "# II - Methods\n",
    "<img src=\"img/method.png\" alt=\"Drawing\" style=\"width: 800px;\"/>\n",
    "\n",
    "Figure shows the **Connected Component Finder (CCF)** module. \n",
    "\n",
    "Inputs are a list of all the edges of the graph. We recall edges are modeled by a list of (key, value) representing [node1]-->[node2]. \n",
    "\n",
    "Outputs are the mapping from each node in the graph to the smallest node ID in its corresponding connected component (arbitrary choice made in the paper to identify the component).\n",
    "\n",
    "In between, there is a loop over 2 Map Reduces jobs until all the nodes are assigned to a component ID : \n",
    "1. CCF-Iterate : link nodes to component ID\n",
    "2. CFF-Dedup : dump copies of outputs of CFF-Iterate\n",
    "\n",
    "There are 2 versions of CFF-Iterate. The second version is meant to improve the space complexity. Indeed, at some point, the algorithm needs to find the minimum value in a list. Instead of iterating through the entire list, values can be passed to the reducer in a sorted way with custom partitioning. the authors mention this improvement does not make such a difference when the graph of the graph is relatively small (<= 50k nodes). But this is more efficient when dealing with real world graphs with billions of nodes."
   ]
  },
  {
   "cell_type": "markdown",
   "metadata": {},
   "source": [
    "### A - Naïve CCF iterate\n",
    "***"
   ]
  },
  {
   "cell_type": "code",
   "execution_count": 6,
   "metadata": {},
   "outputs": [],
   "source": [
    "new_pairs = 0\n",
    "def CFF_iterate(rdd):\n",
    "    rdd_inv = rdd.map(lambda x: (x[1], x[0])) \n",
    "    graph = rdd.union(rdd_inv) # emit pairs\n",
    "    graph = graph.groupByKey().mapValues(list).partitionBy(100).cache() # group by key and get values as a list\n",
    "    graph = graph.map(lambda x: (int(x[0]), list(map(int, x[1])))) # Convert string to integer\n",
    "    graph = graph.map(lambda x: (x[0], x[1], min(x[1]))) # extract min\n",
    "    graph = graph.filter(lambda x: x[0] > x[2]) # filter out vid < amin\n",
    "    graph = graph.map(lambda x: (x[0], [val for val in x[1] if val != x[2]], x[2])) # remove min from list\n",
    "    \n",
    "    new_pairs = graph.map(lambda x: len(x[1])).sum()  # get number of new pairs created\n",
    "\n",
    "    emit_1 = graph.map(lambda x: (x[0], x[2]))\n",
    "    emit_2 = graph.flatMap(lambda x: [(val, x[2]) for val in x[1]])\n",
    "    emit_tot = emit_1.union(emit_2) # return all pairs (CFF-Dedup)\n",
    "    \n",
    "    new = emit_tot.map(lambda x: ((x[0], x[1]), [])) \n",
    "    new = new.groupByKey().mapValues(list)\n",
    "    new = new.map(lambda x: (x[0][0], x[0][1]))\n",
    "    return new, new_pairs"
   ]
  },
  {
   "cell_type": "code",
   "execution_count": 7,
   "metadata": {},
   "outputs": [
    {
     "name": "stdout",
     "output_type": "stream",
     "text": [
      "iteration 0\n",
      "# new pairs : 8552232\n",
      "iteration 1\n",
      "# new pairs : 4758451\n",
      "iteration 2\n",
      "# new pairs : 3278772\n",
      "iteration 3\n",
      "# new pairs : 3888454\n",
      "iteration 4\n",
      "# new pairs : 1905323\n",
      "iteration 5\n",
      "# new pairs : 86783\n",
      "iteration 6\n",
      "# new pairs : 1318\n",
      "iteration 7\n",
      "# new pairs : 0\n",
      "\n",
      " # components : 2746\n",
      "\n",
      " The largest component has 855802 elements\n",
      "\n",
      " Total elasped time : 519.981143951416  s\n"
     ]
    }
   ],
   "source": [
    "start_time = time.time()\n",
    "graph = clean_data(raw_data)\n",
    "output = process(graph)\n",
    "\n",
    "n_components = output.map(lambda x : x[1]).distinct().count()\n",
    "print(f\"\\n # components : {n_components}\")\n",
    "\n",
    "largest_component = output.groupBy(lambda x : x[1]).map(lambda x : len(x[1])).max() + 1\n",
    "print(f\"\\n The largest component has {largest_component} elements\")\n",
    "\n",
    "time_ccf = time.time() - start_time\n",
    "print(\"\\n Total elasped time :\", time_ccf, \" s\")"
   ]
  },
  {
   "cell_type": "markdown",
   "metadata": {},
   "source": [
    "### B - CCF iterate with secondary sorting\n",
    "***"
   ]
  },
  {
   "cell_type": "code",
   "execution_count": 8,
   "metadata": {},
   "outputs": [],
   "source": [
    "new_pairs = 0\n",
    "def CFF_iterate_sorting(rdd):\n",
    "    rdd_inv = rdd.map(lambda x: (x[1], x[0])) \n",
    "    graph = rdd.union(rdd_inv) # emit pairs\n",
    "    graph = graph.groupByKey().mapValues(list).partitionBy(100).cache() # group by key and get values as a list\n",
    "    graph = graph.map(lambda x: (int(x[0]), sorted(list(map(int, x[1]))))) # Convert string to integer\n",
    "    graph = graph.map(lambda x: (x[0], x[1], x[1][0])) # extract min\n",
    "    graph = graph.filter(lambda x: x[0] > x[2]) # filter out vid < amin\n",
    "    graph = graph.map(lambda x: (x[0], x[1][1:], x[2])) # remove min from list\n",
    "\n",
    "    new_pairs = graph.map(lambda x: len(x[1])).sum()  # get number of new pairs created\n",
    "\n",
    "    emit_1 = graph.map(lambda x: (x[0], x[2]))\n",
    "    emit_2 = graph.flatMap(lambda x: [(val, x[2]) for val in x[1]])\n",
    "    emit_tot = emit_1.union(emit_2) # return all pairs \n",
    "\n",
    "    new = emit_tot.map(lambda x: ((x[0], x[1]), [])) # CFF-Dedup\n",
    "    new = new.groupByKey().mapValues(list)\n",
    "    new = new.map(lambda x: (x[0][0], x[0][1]))\n",
    "    return new, new_pairs"
   ]
  },
  {
   "cell_type": "code",
   "execution_count": 9,
   "metadata": {},
   "outputs": [
    {
     "name": "stdout",
     "output_type": "stream",
     "text": [
      "iteration 0\n",
      "# new pairs : 8670951\n",
      "iteration 1\n",
      "# new pairs : 4821525\n",
      "iteration 2\n",
      "# new pairs : 3278772\n",
      "iteration 3\n",
      "# new pairs : 3888454\n",
      "iteration 4\n",
      "# new pairs : 1905323\n",
      "iteration 5\n",
      "# new pairs : 86783\n",
      "iteration 6\n",
      "# new pairs : 1318\n",
      "iteration 7\n",
      "# new pairs : 0\n",
      "\n",
      " # components : 2746\n",
      "\n",
      " The largest component has 855801 elements\n",
      "\n",
      " Total elasped time : 338.81761407852173  s\n"
     ]
    }
   ],
   "source": [
    "start_time = time.time()\n",
    "graph = clean_data(raw_data)\n",
    "output = process(graph, sorting=True)\n",
    "\n",
    "n_components = output.map(lambda x : x[1]).distinct().count()\n",
    "print(f\"\\n # components : {n_components}\")\n",
    "\n",
    "largest_component = output.groupBy(lambda x : x[1]).map(lambda x : len(x[1])).max()\n",
    "print(f\"\\n The largest component has {largest_component} elements\")\n",
    "\n",
    "time_ccf_sorting = time.time() - start_time\n",
    "print(\"\\n Total elasped time :\", time_ccf_sorting, \" s\")"
   ]
  },
  {
   "cell_type": "markdown",
   "metadata": {},
   "source": [
    "As explained by the authors, the \"secondary sorting\" improvement is only relevant with relatively large graphs (with millions of nodes). In this project, we use the web Google graph which is too small to see any wall clock time improvement."
   ]
  },
  {
   "cell_type": "markdown",
   "metadata": {},
   "source": [
    "###  Result : Connected component size distribution\n",
    "***"
   ]
  },
  {
   "cell_type": "code",
   "execution_count": 10,
   "metadata": {},
   "outputs": [],
   "source": [
    "cc = output.map(lambda x: (x[1], x[0])).groupByKey().mapValues(list)\n",
    "cc = cc.map(lambda x: (len(x[1]), 1)) # key = CC size\n",
    "cc = cc.reduceByKey(lambda x,y: x+y) # value = CC count\n",
    "X = cc.map(lambda x: x[0]).collect()\n",
    "Y = cc.map(lambda x: x[1]).collect()"
   ]
  },
  {
   "cell_type": "code",
   "execution_count": 11,
   "metadata": {},
   "outputs": [
    {
     "data": {
      "image/png": "[encoded data removed]",
      "text/plain": [
       "<Figure size 720x576 with 1 Axes>"
      ]
     },
     "metadata": {
      "needs_background": "light"
     },
     "output_type": "display_data"
    }
   ],
   "source": [
    "plt.figure(figsize=(10,8))\n",
    "plt.plot(X, Y, 'rx')\n",
    "\n",
    "plt.xscale(\"log\")\n",
    "plt.xlabel(\"Count\")\n",
    "plt.xlim(left=1)  \n",
    "\n",
    "plt.yscale(\"log\")\n",
    "plt.ylabel(\"Size\")\n",
    "plt.ylim(bottom=1)  \n",
    "\n",
    "plt.title('Connected component size distribution')\n",
    "plt.grid(True)"
   ]
  },
  {
   "cell_type": "markdown",
   "metadata": {},
   "source": [
    "###  Conclusions\n",
    "***\n",
    "Applying CCF-Iterate to the Web Google toy graph effiently finds all the connected components in the graph. The algorithm is simple to implement, yet allows to fully take advantage of the Map Reduce framework. With access to hadoop cluster, real world graphs with billions of nodes can be processed. In this project, we implemented the 2 versions of the algorithm and showed it can tackle a toy graph with limited computational resources. "
   ]
  },
  {
   "cell_type": "code",
   "execution_count": null,
   "metadata": {},
   "outputs": [],
   "source": []
  }
 ],
 "metadata": {
  "kernelspec": {
   "display_name": "Python 3",
   "language": "python",
   "name": "python3"
  },
  "language_info": {
   "codemirror_mode": {
    "name": "ipython",
    "version": 3
   },
   "file_extension": ".py",
   "mimetype": "text/x-python",
   "name": "python",
   "nbconvert_exporter": "python",
   "pygments_lexer": "ipython3",
   "version": "3.9.1"
  },
  "name": "course-project",
  "notebookId": 2043876637861426
 },
 "nbformat": 4,
 "nbformat_minor": 1
}
